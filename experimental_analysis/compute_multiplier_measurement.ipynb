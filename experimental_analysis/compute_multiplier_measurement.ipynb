{
 "cells": [
  {
   "cell_type": "code",
   "execution_count": 1,
   "id": "c6eafe7a",
   "metadata": {},
   "outputs": [],
   "source": [
    "import pandas as pd\n",
    "import numpy as np\n",
    "import matplotlib.pyplot as plt\n",
    "import seaborn as sns"
   ]
  },
  {
   "cell_type": "code",
   "execution_count": null,
   "id": "816fc32c",
   "metadata": {},
   "outputs": [],
   "source": [
    "#function takes csv with the same name just with varying seeds then returns the average and confidence interval \n",
    "\n",
    "\n",
    "def final_loss(file_name):\n",
    "    file = pd.read_csv(file_name)\n",
    "    return file['validation_loss'].iloc[-1]\n",
    "\n",
    "def compute_effect(loss_1, loss_2):\n",
    "    irreducible = 1.7\n",
    "    return np.exp(-(np.log(loss_1-irreducible)-np.log(loss_2-irreducible))/.155)\n",
    "\n",
    "def loss_statistics(csv_name):\n",
    "    #csv vary by last digit of seed \n",
    "    #read in the csv\n",
    "    df = pd.read_csv(csv_name)\n",
    "    #get the last digit of the seed\n",
    "    seed = csv_name.split(\"_\")[-1]\n",
    "    #get the loss column\n",
    "    loss = df[\"Validation Loss\"].iloc[-1]\n",
    "    #get the average loss\n",
    "    average_loss = loss.mean()\n",
    "    #get the confidence interval\n",
    "    confidence_interval = loss.std()\n",
    "    return average_loss, confidence_interval\n",
    "\n",
    "\n",
    "\n",
    "\n",
    "#get the average and confidence interval for the csvs\n",
    "\n",
    "\n",
    "#plot the average and confidence interval for the csvs"
   ]
  }
 ],
 "metadata": {
  "kernelspec": {
   "display_name": "othello",
   "language": "python",
   "name": "python3"
  },
  "language_info": {
   "codemirror_mode": {
    "name": "ipython",
    "version": 3
   },
   "file_extension": ".py",
   "mimetype": "text/x-python",
   "name": "python",
   "nbconvert_exporter": "python",
   "pygments_lexer": "ipython3",
   "version": "3.9.7"
  }
 },
 "nbformat": 4,
 "nbformat_minor": 5
}
